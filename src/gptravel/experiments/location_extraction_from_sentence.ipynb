{
 "cells": [
  {
   "cell_type": "code",
   "execution_count": 1,
   "metadata": {},
   "outputs": [],
   "source": [
    "import spacy"
   ]
  },
  {
   "cell_type": "code",
   "execution_count": 2,
   "metadata": {},
   "outputs": [],
   "source": [
    "# Create a blank English nlp object\n",
    "nlp = spacy.blank(\"en\")"
   ]
  },
  {
   "cell_type": "code",
   "execution_count": 10,
   "metadata": {},
   "outputs": [
    {
     "name": "stdout",
     "output_type": "stream",
     "text": [
      "I\n",
      "have\n",
      "ten\n",
      "dollars\n"
     ]
    }
   ],
   "source": [
    "# Created by processing a string of text with the nlp object\n",
    "doc = nlp(\"I have ten dollars\")\n",
    "\n",
    "# Iterate over tokens in a Doc\n",
    "for token in doc:\n",
    "    print(token.text)"
   ]
  },
  {
   "cell_type": "code",
   "execution_count": 12,
   "metadata": {},
   "outputs": [
    {
     "name": "stdout",
     "output_type": "stream",
     "text": [
      "Is number ['I', 'have', 'ten', 'dollars']\n",
      "Is number [False, False, True, False]\n"
     ]
    }
   ],
   "source": [
    "print(\"Is number\",[token.text for token in doc])\n",
    "print(\"Is number\", [token.like_num for token in doc])"
   ]
  },
  {
   "cell_type": "code",
   "execution_count": 15,
   "metadata": {},
   "outputs": [
    {
     "name": "stdout",
     "output_type": "stream",
     "text": [
      "tree kangaroos\n"
     ]
    }
   ],
   "source": [
    "import spacy\n",
    "\n",
    "nlp = spacy.blank(\"en\")\n",
    "\n",
    "# Process the text\n",
    "doc = nlp(\"I like tree kangaroos and narwhals.\")\n",
    "\n",
    "# A slice of the Doc for \"tree kangaroos\"\n",
    "tree_kangaroos = doc[2:4]\n",
    "print(tree_kangaroos.text)"
   ]
  },
  {
   "cell_type": "code",
   "execution_count": 17,
   "metadata": {},
   "outputs": [
    {
     "name": "stdout",
     "output_type": "stream",
     "text": [
      "tree kangaroos\n",
      "tree kangaroos and narwhals\n"
     ]
    }
   ],
   "source": [
    "import spacy\n",
    "\n",
    "nlp = spacy.blank(\"en\")\n",
    "\n",
    "# Process the text\n",
    "doc = nlp(\"I like tree kangaroos and narwhals.\")\n",
    "\n",
    "# A slice of the Doc for \"tree kangaroos\"\n",
    "tree_kangaroos = doc[2:4]\n",
    "print(tree_kangaroos.text)\n",
    "\n",
    "# A slice of the Doc for \"tree kangaroos and narwhals\" (without the \".\")\n",
    "tree_kangaroos_and_narwhals = doc[2:-1]\n",
    "print(tree_kangaroos_and_narwhals.text)"
   ]
  },
  {
   "cell_type": "code",
   "execution_count": 18,
   "metadata": {},
   "outputs": [
    {
     "name": "stdout",
     "output_type": "stream",
     "text": [
      "Percentage found: 60\n",
      "Percentage found: 4\n"
     ]
    }
   ],
   "source": [
    "import spacy\n",
    "\n",
    "nlp = spacy.blank(\"en\")\n",
    "\n",
    "# Process the text\n",
    "doc = nlp(\n",
    "    \"In 1990, more than 60% of people in East Asia were in extreme poverty. \"\n",
    "    \"Now less than 4% are.\"\n",
    ")\n",
    "\n",
    "# Iterate over the tokens in the doc\n",
    "for token in doc:\n",
    "    # Check if the token resembles a number\n",
    "    if token.like_num:\n",
    "        # Get the next token in the document\n",
    "        next_token = doc[token.i + 1]\n",
    "        # Check if the next token's text equals \"%\"\n",
    "        if next_token.text == \"%\":\n",
    "            print(\"Percentage found:\", token.text)"
   ]
  },
  {
   "cell_type": "code",
   "execution_count": 35,
   "metadata": {},
   "outputs": [],
   "source": [
    "import spacy \n",
    "\n",
    "\n",
    "nlp = spacy.load(\"en_core_web_sm\")\n"
   ]
  },
  {
   "cell_type": "code",
   "execution_count": 36,
   "metadata": {},
   "outputs": [
    {
     "data": {
      "text/plain": [
       "spacy.lang.en.English"
      ]
     },
     "execution_count": 36,
     "metadata": {},
     "output_type": "execute_result"
    }
   ],
   "source": [
    "type(nlp)"
   ]
  },
  {
   "cell_type": "code",
   "execution_count": 24,
   "metadata": {},
   "outputs": [
    {
     "name": "stdout",
     "output_type": "stream",
     "text": [
      "She PRON\n",
      "loves VERB\n",
      "the DET\n",
      "pizza NOUN\n"
     ]
    }
   ],
   "source": [
    "doc = nlp(\"She loves the pizza\")\n",
    "\n",
    "\n",
    "for token in doc:\n",
    "    print(token.text, token.pos_)"
   ]
  },
  {
   "cell_type": "code",
   "execution_count": 25,
   "metadata": {},
   "outputs": [
    {
     "name": "stdout",
     "output_type": "stream",
     "text": [
      "She PRON nsubj loves\n",
      "loves VERB ROOT loves\n",
      "the DET det pizza\n",
      "pizza NOUN dobj loves\n"
     ]
    }
   ],
   "source": [
    "for token in doc:\n",
    "    print(token.text, token.pos_, token.dep_, token.head.text)"
   ]
  },
  {
   "cell_type": "code",
   "execution_count": 26,
   "metadata": {},
   "outputs": [
    {
     "name": "stdout",
     "output_type": "stream",
     "text": [
      "Apple ORG\n",
      "U.K. GPE\n",
      "$1 billion MONEY\n"
     ]
    }
   ],
   "source": [
    "# Process a text\n",
    "doc = nlp(\"Apple is looking at buying U.K. startup for $1 billion\")\n",
    "\n",
    "# Iterate over the predicted entities\n",
    "for ent in doc.ents:\n",
    "    # Print the entity text and its label\n",
    "    print(ent.text, ent.label_)"
   ]
  },
  {
   "cell_type": "code",
   "execution_count": 30,
   "metadata": {},
   "outputs": [
    {
     "name": "stdout",
     "output_type": "stream",
     "text": [
      "Olives Buildings, airports, highways, bridges, etc.\n"
     ]
    }
   ],
   "source": [
    "# Process a text\n",
    "doc = nlp(\"Explore the Mount of Olives\")\n",
    "\n",
    "# Iterate over the predicted entities\n",
    "for ent in doc.ents:\n",
    "    # Print the entity text and its label\n",
    "    print(ent.text, spacy.explain(ent.label_))"
   ]
  },
  {
   "cell_type": "code",
   "execution_count": 5,
   "metadata": {},
   "outputs": [],
   "source": [
    "travel_plan_test = {\n",
    "    \"Day 1\": {\n",
    "      \"Tel Aviv\": [\n",
    "        \"Explore Tel Aviv promenade\",\n",
    "        \"Visit Carmel Market\",\n",
    "        \"Relax on Tel Aviv's beaches\"\n",
    "      ]\n",
    "    },\n",
    "    \"Day 2\": {\n",
    "      \"Jerusalem\": [\n",
    "        \"Visit the Western Wall\",\n",
    "        \"Explore the Old City\",\n",
    "        \"Tour the Israel Museum\"\n",
    "      ]\n",
    "    },\n",
    "    \"Day 3\": {\n",
    "      \"Jerusalem\": [\n",
    "        \"Explore the Mount of Olives\",\n",
    "        \"Visit Yad Vashem Holocaust Memorial\",\n",
    "        \"Walk along the Via Dolorosa\"\n",
    "      ]\n",
    "    },\n",
    "    \"Day 4\": {\n",
    "      \"Dead Sea\": [\n",
    "        \"Float in the salty waters of the Dead Sea\",\n",
    "        \"Cover yourself with mineral-rich mud\"\n",
    "      ]\n",
    "    },\n",
    "    \"Day 5\": {\n",
    "      \"Masada\": [\n",
    "        \"Climb the ancient fortress of Masada\",\n",
    "        \"Enjoy panoramic views of the Dead Sea\"\n",
    "      ]\n",
    "    },\n",
    "    \"Day 6\": {\n",
    "      \"Haifa\": [\n",
    "        \"Visit the Baha'i Gardens\",\n",
    "        \"Explore the German Colony\",\n",
    "        \"Enjoy the beach at Dado Zamir\"\n",
    "      ]\n",
    "    },\n",
    "    \"Day 7\": {\n",
    "      \"Akko\": [\n",
    "        \"Explore the ancient city walls of Akko\",\n",
    "        \"Visit the Knights' Halls\",\n",
    "        \"Stroll through the colorful market\"\n",
    "      ]\n",
    "    },\n",
    "    \"Day 8\": {\n",
    "      \"Caesarea\": [\n",
    "        \"Explore the archaeological site of Caesarea\",\n",
    "        \"Visit the Roman Theater\",\n",
    "        \"Relax on the beach\"\n",
    "      ]\n",
    "    },\n",
    "    \"Day 9\": {\n",
    "      \"Eilat\": [\n",
    "        \"Enjoy snorkeling in the Red Sea\",\n",
    "        \"Visit the Underwater Observatory Marine Park\"\n",
    "      ]\n",
    "    },\n",
    "    \"Day 10\": {\n",
    "      \"Eilat\": [\n",
    "        \"Relax on the beautiful beaches of Eilat\",\n",
    "        \"Take a desert tour\"\n",
    "      ]\n",
    "    },\n",
    "    \"Day 11\": {\n",
    "      \"Dead Sea\": [\n",
    "        \"Visit Ein Gedi Nature Reserve\",\n",
    "        \"Hike in the desert oasis\",\n",
    "        \"Experience the refreshing waterfalls\"\n",
    "      ]\n",
    "    },\n",
    "    \"Day 12\": {\n",
    "      \"Tel Aviv\": [\n",
    "        \"Visit Jaffa Old City\",\n",
    "        \"Explore Neve Tzedek neighborhood\",\n",
    "        \"Enjoy the vibrant nightlife\"\n",
    "      ]\n",
    "    },\n",
    "    \"Day 13\": {\n",
    "      \"Nazareth\": [\n",
    "        \"Visit the Basilica of the Annunciation\",\n",
    "        \"Explore the Old City of Nazareth\",\n",
    "        \"Taste local delicacies\"\n",
    "      ]\n",
    "    },\n",
    "    \"Day 14\": {\n",
    "      \"Haifa\": [\n",
    "        \"Visit the Stella Maris Monastery\",\n",
    "        \"Explore the Bahá'í Archives\",\n",
    "        \"Take a scenic cable car ride\"\n",
    "      ]\n",
    "    },\n",
    "    \"Day 15\": {\n",
    "      \"Tel Aviv\": [\n",
    "        \"Visit the Tel Aviv Museum of Art\",\n",
    "        \"Shop at the trendy Rothschild Boulevard\",\n",
    "        \"Enjoy a sunset at Jaffa Port\"\n",
    "      ]\n",
    "    }\n",
    "  }\n",
    "  "
   ]
  },
  {
   "cell_type": "code",
   "execution_count": 31,
   "metadata": {},
   "outputs": [
    {
     "data": {
      "text/plain": [
       "'Explore Tel Aviv promenade'"
      ]
     },
     "execution_count": 31,
     "metadata": {},
     "output_type": "execute_result"
    }
   ],
   "source": [
    "string = travel_plan_test[\"Day 1\"][\"Tel Aviv\"][0]\n",
    "string"
   ]
  },
  {
   "cell_type": "code",
   "execution_count": 38,
   "metadata": {},
   "outputs": [],
   "source": [
    "doc = nlp(\" romenade\")\n",
    "\n",
    "for ent in doc.ents:\n",
    "    # Print the entity text and its label\n",
    "    print(ent.text, ent.label_, spacy.explain(ent.label_))"
   ]
  },
  {
   "cell_type": "code",
   "execution_count": 41,
   "metadata": {},
   "outputs": [],
   "source": [
    "if doc.ents:\n",
    "    print(\"Ciao\")"
   ]
  },
  {
   "cell_type": "code",
   "execution_count": 40,
   "metadata": {},
   "outputs": [
    {
     "data": {
      "text/plain": [
       "()"
      ]
     },
     "execution_count": 40,
     "metadata": {},
     "output_type": "execute_result"
    }
   ],
   "source": [
    "doc.ents"
   ]
  },
  {
   "cell_type": "code",
   "execution_count": 51,
   "metadata": {},
   "outputs": [],
   "source": [
    "from gptravel.core.services.engine.entity_recognizer import EntityRecognizer\n",
    "\n"
   ]
  },
  {
   "cell_type": "code",
   "execution_count": 43,
   "metadata": {},
   "outputs": [],
   "source": [
    "reco = EntityRecognizer()"
   ]
  },
  {
   "cell_type": "code",
   "execution_count": 57,
   "metadata": {},
   "outputs": [
    {
     "data": {
      "text/plain": [
       "{'Jaffa Port': 'FAC'}"
      ]
     },
     "execution_count": 57,
     "metadata": {},
     "output_type": "execute_result"
    }
   ],
   "source": [
    "string = \"Enjoy a sunset at Jaffa Port\"\n",
    "\n",
    "reco.recognize(string)"
   ]
  },
  {
   "cell_type": "code",
   "execution_count": 58,
   "metadata": {},
   "outputs": [
    {
     "data": {
      "text/plain": [
       "'Countries, cities, states'"
      ]
     },
     "execution_count": 58,
     "metadata": {},
     "output_type": "execute_result"
    }
   ],
   "source": [
    "spacy.explain(\"GPE\")"
   ]
  },
  {
   "cell_type": "code",
   "execution_count": null,
   "metadata": {},
   "outputs": [],
   "source": [
    "@pytest.mark.parametrize(\n",
    "        \"input_code\", \"expected_result\",\n",
    "        [\n",
    "            (\"GPE\", \"Countries, cities, states\"),\n",
    "            (\"NNP\", \"noun, proper singular\"),\n",
    "            (\"LOC\", \"Non-GPE locations, mountain ranges, bodies of water\"),\n",
    "            (\"FAC\", \"Buildings, airports, highways, bridges, etc.\"),\n",
    "            (\"ORG\", \"Companies, agencies, institutions, etc.\"),\n",
    "            (\"BOTTLE\", None)\n",
    "        ]\n",
    "    )\n",
    "    def test_explain_code(self, recognizer: EntityRecognizer, input_code: str, expected_result: Optional[str]):\n",
    "        assert recognizer.explain(input_code) == expected_result"
   ]
  },
  {
   "cell_type": "code",
   "execution_count": 70,
   "metadata": {},
   "outputs": [],
   "source": [
    "def extract_lists(dictionary, key):\n",
    "    \"\"\"\n",
    "    Extracts all lists associated with the given key from a dictionary of undefined depth.\n",
    "\n",
    "    Args:\n",
    "        dictionary (dict): The input dictionary.\n",
    "        key: The key to search for.\n",
    "\n",
    "    Returns:\n",
    "        list: The extracted lists if the key is found, otherwise an empty list.\n",
    "    \"\"\"\n",
    "    lists = [dictionary[key]] if key in dictionary and isinstance(dictionary[key], list) else []\n",
    "\n",
    "    nested_lists = [\n",
    "        extract_lists(value, key)\n",
    "        for value in dictionary.values()\n",
    "        if isinstance(value, (dict))\n",
    "    ]\n",
    "\n",
    "    return [item for sublist in lists + nested_lists for item in sublist]\n"
   ]
  },
  {
   "cell_type": "code",
   "execution_count": 71,
   "metadata": {},
   "outputs": [
    {
     "name": "stdout",
     "output_type": "stream",
     "text": [
      "[1, '2', 3, 4, 5, 6]\n"
     ]
    }
   ],
   "source": [
    "my_dict = {\n",
    "    'a': {\n",
    "        'e': [1, \"2\", 3],\n",
    "        \"f\": [1,2]\n",
    "    },\n",
    "    'e': {\n",
    "        'd': {\n",
    "            'e': [4, 5, 6]\n",
    "        }\n",
    "    }\n",
    "}\n",
    "\n",
    "key_to_search = 'e'\n",
    "result = extract_lists(my_dict, key_to_search)\n",
    "print(result)  # Output: [4, 5, 6]"
   ]
  },
  {
   "cell_type": "code",
   "execution_count": 57,
   "metadata": {},
   "outputs": [
    {
     "data": {
      "text/plain": [
       "list"
      ]
     },
     "execution_count": 57,
     "metadata": {},
     "output_type": "execute_result"
    }
   ],
   "source": [
    "type(result[0])"
   ]
  },
  {
   "cell_type": "code",
   "execution_count": 58,
   "metadata": {},
   "outputs": [
    {
     "data": {
      "text/plain": [
       "[1, 2, 3, 4, 5, 6]"
      ]
     },
     "execution_count": 58,
     "metadata": {},
     "output_type": "execute_result"
    }
   ],
   "source": [
    "\n",
    "\n",
    "flatten_list(result)"
   ]
  },
  {
   "cell_type": "code",
   "execution_count": 24,
   "metadata": {},
   "outputs": [
    {
     "data": {
      "text/plain": [
       "[[1, 2, 3], [4, 5, 6]]"
      ]
     },
     "execution_count": 24,
     "metadata": {},
     "output_type": "execute_result"
    }
   ],
   "source": [
    "result"
   ]
  },
  {
   "cell_type": "code",
   "execution_count": 47,
   "metadata": {},
   "outputs": [
    {
     "data": {
      "text/plain": [
       "[1, 2, 3, 4, 5, 6]"
      ]
     },
     "execution_count": 47,
     "metadata": {},
     "output_type": "execute_result"
    }
   ],
   "source": [
    "import itertools\n",
    "list(itertools.chain(*result))"
   ]
  },
  {
   "cell_type": "code",
   "execution_count": null,
   "metadata": {},
   "outputs": [],
   "source": []
  }
 ],
 "metadata": {
  "kernelspec": {
   "display_name": ".venv",
   "language": "python",
   "name": "python3"
  },
  "language_info": {
   "codemirror_mode": {
    "name": "ipython",
    "version": 3
   },
   "file_extension": ".py",
   "mimetype": "text/x-python",
   "name": "python",
   "nbconvert_exporter": "python",
   "pygments_lexer": "ipython3",
   "version": "3.9.6"
  },
  "orig_nbformat": 4
 },
 "nbformat": 4,
 "nbformat_minor": 2
}
